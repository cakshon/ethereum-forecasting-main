{
  "cells": [
    {
      "cell_type": "code",
      "execution_count": 1,
      "metadata": {
        "id": "Of2F3Xu40eAO"
      },
      "outputs": [],
      "source": [
        "import math\n",
        "import numpy as np\n",
        "import pandas as pd\n",
        "import matplotlib.pyplot as plt\n",
        "from sklearn.preprocessing import MinMaxScaler\n",
        "from keras.models import Sequential\n",
        "from keras.layers import LSTM, Dense\n",
        "import tensorflow as tf"
      ]
    },
    {
      "cell_type": "code",
      "execution_count": 2,
      "metadata": {
        "id": "fFGGkTVG1hts"
      },
      "outputs": [],
      "source": [
        "data = pd.read_csv('ETH-USD.csv')"
      ]
    },
    {
      "cell_type": "code",
      "execution_count": 3,
      "metadata": {
        "colab": {
          "base_uri": "https://localhost:8080/",
          "height": 206
        },
        "id": "JbdVxmQL16Ex",
        "outputId": "95666bb4-5186-4bee-a64e-d52fb67ffbae"
      },
      "outputs": [
        {
          "data": {
            "text/html": [
              "\n",
              "  <div id=\"df-c7738b6c-f59e-4319-89d0-ec2c55cd3306\">\n",
              "    <div class=\"colab-df-container\">\n",
              "      <div>\n",
              "<style scoped>\n",
              "    .dataframe tbody tr th:only-of-type {\n",
              "        vertical-align: middle;\n",
              "    }\n",
              "\n",
              "    .dataframe tbody tr th {\n",
              "        vertical-align: top;\n",
              "    }\n",
              "\n",
              "    .dataframe thead th {\n",
              "        text-align: right;\n",
              "    }\n",
              "</style>\n",
              "<table border=\"1\" class=\"dataframe\">\n",
              "  <thead>\n",
              "    <tr style=\"text-align: right;\">\n",
              "      <th></th>\n",
              "      <th>Date</th>\n",
              "      <th>Open</th>\n",
              "      <th>High</th>\n",
              "      <th>Low</th>\n",
              "      <th>Close</th>\n",
              "      <th>Adj Close</th>\n",
              "      <th>Volume</th>\n",
              "    </tr>\n",
              "  </thead>\n",
              "  <tbody>\n",
              "    <tr>\n",
              "      <th>2015-09-13</th>\n",
              "      <td>2015-09-13</td>\n",
              "      <td>1.041780</td>\n",
              "      <td>1.042700</td>\n",
              "      <td>0.902832</td>\n",
              "      <td>0.936003</td>\n",
              "      <td>0.936003</td>\n",
              "      <td>644138.0</td>\n",
              "    </tr>\n",
              "    <tr>\n",
              "      <th>2015-09-14</th>\n",
              "      <td>2015-09-14</td>\n",
              "      <td>0.940566</td>\n",
              "      <td>0.949387</td>\n",
              "      <td>0.871760</td>\n",
              "      <td>0.875622</td>\n",
              "      <td>0.875622</td>\n",
              "      <td>741085.0</td>\n",
              "    </tr>\n",
              "    <tr>\n",
              "      <th>2015-09-15</th>\n",
              "      <td>2015-09-15</td>\n",
              "      <td>0.875189</td>\n",
              "      <td>1.045540</td>\n",
              "      <td>0.875189</td>\n",
              "      <td>0.944410</td>\n",
              "      <td>0.944410</td>\n",
              "      <td>703390.0</td>\n",
              "    </tr>\n",
              "    <tr>\n",
              "      <th>2015-09-16</th>\n",
              "      <td>2015-09-16</td>\n",
              "      <td>0.941977</td>\n",
              "      <td>0.952698</td>\n",
              "      <td>0.901639</td>\n",
              "      <td>0.907175</td>\n",
              "      <td>0.907175</td>\n",
              "      <td>615593.0</td>\n",
              "    </tr>\n",
              "    <tr>\n",
              "      <th>2015-09-17</th>\n",
              "      <td>2015-09-17</td>\n",
              "      <td>0.906865</td>\n",
              "      <td>0.909204</td>\n",
              "      <td>0.831132</td>\n",
              "      <td>0.874231</td>\n",
              "      <td>0.874231</td>\n",
              "      <td>897940.0</td>\n",
              "    </tr>\n",
              "  </tbody>\n",
              "</table>\n",
              "</div>\n",
              "      <button class=\"colab-df-convert\" onclick=\"convertToInteractive('df-c7738b6c-f59e-4319-89d0-ec2c55cd3306')\"\n",
              "              title=\"Convert this dataframe to an interactive table.\"\n",
              "              style=\"display:none;\">\n",
              "        \n",
              "  <svg xmlns=\"http://www.w3.org/2000/svg\" height=\"24px\"viewBox=\"0 0 24 24\"\n",
              "       width=\"24px\">\n",
              "    <path d=\"M0 0h24v24H0V0z\" fill=\"none\"/>\n",
              "    <path d=\"M18.56 5.44l.94 2.06.94-2.06 2.06-.94-2.06-.94-.94-2.06-.94 2.06-2.06.94zm-11 1L8.5 8.5l.94-2.06 2.06-.94-2.06-.94L8.5 2.5l-.94 2.06-2.06.94zm10 10l.94 2.06.94-2.06 2.06-.94-2.06-.94-.94-2.06-.94 2.06-2.06.94z\"/><path d=\"M17.41 7.96l-1.37-1.37c-.4-.4-.92-.59-1.43-.59-.52 0-1.04.2-1.43.59L10.3 9.45l-7.72 7.72c-.78.78-.78 2.05 0 2.83L4 21.41c.39.39.9.59 1.41.59.51 0 1.02-.2 1.41-.59l7.78-7.78 2.81-2.81c.8-.78.8-2.07 0-2.86zM5.41 20L4 18.59l7.72-7.72 1.47 1.35L5.41 20z\"/>\n",
              "  </svg>\n",
              "      </button>\n",
              "      \n",
              "  <style>\n",
              "    .colab-df-container {\n",
              "      display:flex;\n",
              "      flex-wrap:wrap;\n",
              "      gap: 12px;\n",
              "    }\n",
              "\n",
              "    .colab-df-convert {\n",
              "      background-color: #E8F0FE;\n",
              "      border: none;\n",
              "      border-radius: 50%;\n",
              "      cursor: pointer;\n",
              "      display: none;\n",
              "      fill: #1967D2;\n",
              "      height: 32px;\n",
              "      padding: 0 0 0 0;\n",
              "      width: 32px;\n",
              "    }\n",
              "\n",
              "    .colab-df-convert:hover {\n",
              "      background-color: #E2EBFA;\n",
              "      box-shadow: 0px 1px 2px rgba(60, 64, 67, 0.3), 0px 1px 3px 1px rgba(60, 64, 67, 0.15);\n",
              "      fill: #174EA6;\n",
              "    }\n",
              "\n",
              "    [theme=dark] .colab-df-convert {\n",
              "      background-color: #3B4455;\n",
              "      fill: #D2E3FC;\n",
              "    }\n",
              "\n",
              "    [theme=dark] .colab-df-convert:hover {\n",
              "      background-color: #434B5C;\n",
              "      box-shadow: 0px 1px 3px 1px rgba(0, 0, 0, 0.15);\n",
              "      filter: drop-shadow(0px 1px 2px rgba(0, 0, 0, 0.3));\n",
              "      fill: #FFFFFF;\n",
              "    }\n",
              "  </style>\n",
              "\n",
              "      <script>\n",
              "        const buttonEl =\n",
              "          document.querySelector('#df-c7738b6c-f59e-4319-89d0-ec2c55cd3306 button.colab-df-convert');\n",
              "        buttonEl.style.display =\n",
              "          google.colab.kernel.accessAllowed ? 'block' : 'none';\n",
              "\n",
              "        async function convertToInteractive(key) {\n",
              "          const element = document.querySelector('#df-c7738b6c-f59e-4319-89d0-ec2c55cd3306');\n",
              "          const dataTable =\n",
              "            await google.colab.kernel.invokeFunction('convertToInteractive',\n",
              "                                                     [key], {});\n",
              "          if (!dataTable) return;\n",
              "\n",
              "          const docLinkHtml = 'Like what you see? Visit the ' +\n",
              "            '<a target=\"_blank\" href=https://colab.research.google.com/notebooks/data_table.ipynb>data table notebook</a>'\n",
              "            + ' to learn more about interactive tables.';\n",
              "          element.innerHTML = '';\n",
              "          dataTable['output_type'] = 'display_data';\n",
              "          await google.colab.output.renderOutput(dataTable, element);\n",
              "          const docLink = document.createElement('div');\n",
              "          docLink.innerHTML = docLinkHtml;\n",
              "          element.appendChild(docLink);\n",
              "        }\n",
              "      </script>\n",
              "    </div>\n",
              "  </div>\n",
              "  "
            ],
            "text/plain": [
              "                  Date      Open      High       Low     Close  Adj Close  \\\n",
              "2015-09-13  2015-09-13  1.041780  1.042700  0.902832  0.936003   0.936003   \n",
              "2015-09-14  2015-09-14  0.940566  0.949387  0.871760  0.875622   0.875622   \n",
              "2015-09-15  2015-09-15  0.875189  1.045540  0.875189  0.944410   0.944410   \n",
              "2015-09-16  2015-09-16  0.941977  0.952698  0.901639  0.907175   0.907175   \n",
              "2015-09-17  2015-09-17  0.906865  0.909204  0.831132  0.874231   0.874231   \n",
              "\n",
              "              Volume  \n",
              "2015-09-13  644138.0  \n",
              "2015-09-14  741085.0  \n",
              "2015-09-15  703390.0  \n",
              "2015-09-16  615593.0  \n",
              "2015-09-17  897940.0  "
            ]
          },
          "execution_count": 3,
          "metadata": {},
          "output_type": "execute_result"
        }
      ],
      "source": [
        "data = data.set_index(pd.DatetimeIndex(data['Date'].values))\n",
        "data.head()"
      ]
    },
    {
      "cell_type": "code",
      "execution_count": 4,
      "metadata": {
        "colab": {
          "base_uri": "https://localhost:8080/"
        },
        "id": "eAVA4mli2A9d",
        "outputId": "2a9e301b-70ca-415c-9cd8-9eb8ccf9134f"
      },
      "outputs": [
        {
          "data": {
            "text/plain": [
              "(2193, 7)"
            ]
          },
          "execution_count": 4,
          "metadata": {},
          "output_type": "execute_result"
        }
      ],
      "source": [
        "data.shape"
      ]
    },
    {
      "cell_type": "code",
      "execution_count": 5,
      "metadata": {
        "colab": {
          "base_uri": "https://localhost:8080/"
        },
        "id": "eg4vROSW2Lho",
        "outputId": "1e986f17-a748-4c9a-a98e-b91c91cd5675"
      },
      "outputs": [
        {
          "data": {
            "text/plain": [
              "Date         0\n",
              "Open         4\n",
              "High         4\n",
              "Low          4\n",
              "Close        4\n",
              "Adj Close    4\n",
              "Volume       4\n",
              "dtype: int64"
            ]
          },
          "execution_count": 5,
          "metadata": {},
          "output_type": "execute_result"
        }
      ],
      "source": [
        "data.isnull().sum()"
      ]
    },
    {
      "cell_type": "code",
      "execution_count": 6,
      "metadata": {
        "id": "mW6zqnZy2Nwb"
      },
      "outputs": [],
      "source": [
        "data = data.fillna(method='ffill')"
      ]
    },
    {
      "cell_type": "code",
      "execution_count": 7,
      "metadata": {
        "colab": {
          "base_uri": "https://localhost:8080/",
          "height": 513
        },
        "id": "bi0Q9lz_2PuX",
        "outputId": "b2a35e7a-aedd-49f5-f5aa-8731d8929296"
      },
      "outputs": [
        {
          "data": {
            "image/png": "[encoded data removed]",
            "text/plain": [
              "<Figure size 1152x576 with 1 Axes>"
            ]
          },
          "metadata": {
            "needs_background": "light"
          },
          "output_type": "display_data"
        }
      ],
      "source": [
        "plt.figure(figsize=(16,8))\n",
        "plt.title(\"Close Price of ETH\")\n",
        "plt.plot(data['Close'])\n",
        "plt.xlabel('Date')\n",
        "plt.ylabel('Close Price')\n",
        "plt.show()"
      ]
    },
    {
      "cell_type": "code",
      "execution_count": 8,
      "metadata": {
        "colab": {
          "base_uri": "https://localhost:8080/",
          "height": 513
        },
        "id": "DHEYo62a1B9y",
        "outputId": "ba6a0852-6ced-408a-a433-80341dc7b4fb"
      },
      "outputs": [
        {
          "data": {
            "image/png": "[encoded data removed]",
            "text/plain": [
              "<Figure size 1152x576 with 1 Axes>"
            ]
          },
          "metadata": {
            "needs_background": "light"
          },
          "output_type": "display_data"
        }
      ],
      "source": [
        "plt.figure(figsize=(16,8))\n",
        "plt.title(\"Volume of ETH\")\n",
        "plt.plot(data['Volume'])\n",
        "plt.xlabel('Date')\n",
        "plt.ylabel('Volume')\n",
        "plt.show()"
      ]
    },
    {
      "cell_type": "code",
      "execution_count": 9,
      "metadata": {
        "colab": {
          "base_uri": "https://localhost:8080/"
        },
        "id": "2vo4hNUj2SWj",
        "outputId": "bbe2fdf5-0689-4827-db97-d1e323549a2b"
      },
      "outputs": [
        {
          "data": {
            "text/plain": [
              "array([[9.36003000e-01],\n",
              "       [8.75622000e-01],\n",
              "       [9.44410000e-01],\n",
              "       ...,\n",
              "       [3.27027808e+03],\n",
              "       [3.41013452e+03],\n",
              "       [3.22328052e+03]])"
            ]
          },
          "execution_count": 9,
          "metadata": {},
          "output_type": "execute_result"
        }
      ],
      "source": [
        "df = data.filter(['Close'])\n",
        "dataset = df.values\n",
        "dataset"
      ]
    },
    {
      "cell_type": "code",
      "execution_count": 10,
      "metadata": {
        "colab": {
          "base_uri": "https://localhost:8080/"
        },
        "id": "c0c-qYI62XH7",
        "outputId": "50390ff9-328c-49f9-8609-3db0fb3ae922"
      },
      "outputs": [
        {
          "data": {
            "text/plain": [
              "1755"
            ]
          },
          "execution_count": 10,
          "metadata": {},
          "output_type": "execute_result"
        }
      ],
      "source": [
        "training_data_len = math.ceil(len(dataset)*0.8)\n",
        "training_data_len"
      ]
    },
    {
      "cell_type": "code",
      "execution_count": 11,
      "metadata": {
        "colab": {
          "base_uri": "https://localhost:8080/"
        },
        "id": "2zm3anG12ZZR",
        "outputId": "72050796-40a7-408c-e444-ee2d6717c72b"
      },
      "outputs": [
        {
          "data": {
            "text/plain": [
              "array([[1.20235599e-04],\n",
              "       [1.05749720e-04],\n",
              "       [1.22252505e-04],\n",
              "       ...,\n",
              "       [7.84461207e-01],\n",
              "       [8.18013872e-01],\n",
              "       [7.73186122e-01]])"
            ]
          },
          "execution_count": 11,
          "metadata": {},
          "output_type": "execute_result"
        }
      ],
      "source": [
        "scaler = MinMaxScaler()\n",
        "scaled_data = scaler.fit_transform(dataset)\n",
        "scaled_data"
      ]
    },
    {
      "cell_type": "code",
      "execution_count": 12,
      "metadata": {
        "id": "vK1uJcOi2dMg"
      },
      "outputs": [],
      "source": [
        "train_data = scaled_data[0:training_data_len, :]\n",
        "x_train = []\n",
        "y_train = []"
      ]
    },
    {
      "cell_type": "code",
      "execution_count": 13,
      "metadata": {
        "colab": {
          "base_uri": "https://localhost:8080/"
        },
        "id": "NOoFyG7v2hAJ",
        "outputId": "03bac3bd-1069-4c8a-edd9-b0f1965f3e30"
      },
      "outputs": [
        {
          "name": "stdout",
          "output_type": "stream",
          "text": [
            "[array([1.20235599e-04, 1.05749720e-04, 1.22252505e-04, 1.13319534e-04,\n",
            "       1.05416008e-04, 1.00486861e-04, 1.07373657e-04, 1.20821454e-04,\n",
            "       1.16167721e-04, 1.12029070e-04, 1.10016242e-04, 9.08725520e-05,\n",
            "       7.23067998e-05, 8.42400584e-05, 6.86160568e-05, 3.55200431e-05,\n",
            "       5.42952348e-05, 7.28876168e-05, 6.12691174e-05, 5.84763496e-05,\n",
            "       6.05388378e-05, 5.60304886e-05, 4.64975086e-05, 5.17759621e-05,\n",
            "       4.18780821e-05, 4.48356666e-05, 5.17718836e-05, 4.63089410e-05,\n",
            "       4.80137265e-05, 4.58706292e-05, 4.14623217e-05, 2.11452419e-05,\n",
            "       3.04800580e-05, 2.43904760e-05, 2.69534120e-05, 1.98895640e-05,\n",
            "       1.29994092e-05, 0.00000000e+00, 2.99884868e-06, 3.18772816e-05,\n",
            "       2.51490647e-05, 3.08907803e-05, 4.34737095e-05, 7.11298117e-05,\n",
            "       1.04314831e-04, 1.36183956e-04, 1.85168350e-04, 1.45477988e-04,\n",
            "       1.15587144e-04, 1.48944657e-04, 1.33139285e-04, 1.38794154e-04,\n",
            "       1.11370282e-04, 1.10551477e-04, 1.17843477e-04, 1.18309378e-04,\n",
            "       1.42179254e-04, 1.35415771e-04, 1.19838551e-04, 8.56471182e-05])]\n",
            "[0.00011056923000469597]\n"
          ]
        }
      ],
      "source": [
        "for i in range(60, len(train_data)):\n",
        "  x_train.append(train_data[i-60:i, 0])\n",
        "  y_train.append(train_data[i, 0])\n",
        "  if i<=60:\n",
        "    print(x_train)\n",
        "    print(y_train)"
      ]
    },
    {
      "cell_type": "code",
      "execution_count": 14,
      "metadata": {
        "id": "oyz8DnMA2lMX"
      },
      "outputs": [],
      "source": [
        "x_train, y_train = np.array(x_train), np.array(y_train)"
      ]
    },
    {
      "cell_type": "code",
      "execution_count": 15,
      "metadata": {
        "id": "1mCTLHTt2pKf"
      },
      "outputs": [],
      "source": [
        "x_train = np.reshape(x_train, (x_train.shape[0], x_train.shape[1], 1))"
      ]
    },
    {
      "cell_type": "code",
      "execution_count": 33,
      "metadata": {
        "id": "Ht94J-Zj28jv"
      },
      "outputs": [],
      "source": [
        "model = Sequential()\n",
        "model.add(LSTM(30, return_sequences=False, input_shape=(x_train.shape[1], 1)))\n",
        "model.add(Dense(10))\n",
        "model.add(Dense(1))\n",
        "model.compile(optimizer='adam', loss='mean_squared_error', metrics=['mean_absolute_error'])"
      ]
    },
    {
      "cell_type": "code",
      "execution_count": 34,
      "metadata": {
        "colab": {
          "base_uri": "https://localhost:8080/"
        },
        "id": "OulPIK4K4TFC",
        "outputId": "4a90fa78-37f3-434e-dd0c-d647fa8bfda8"
      },
      "outputs": [
        {
          "name": "stdout",
          "output_type": "stream",
          "text": [
            "Model: \"sequential_2\"\n",
            "_________________________________________________________________\n",
            " Layer (type)                Output Shape              Param #   \n",
            "=================================================================\n",
            " lstm_2 (LSTM)               (None, 30)                3840      \n",
            "                                                                 \n",
            " dense_4 (Dense)             (None, 10)                310       \n",
            "                                                                 \n",
            " dense_5 (Dense)             (None, 1)                 11        \n",
            "                                                                 \n",
            "=================================================================\n",
            "Total params: 4,161\n",
            "Trainable params: 4,161\n",
            "Non-trainable params: 0\n",
            "_________________________________________________________________\n"
          ]
        }
      ],
      "source": [
        "model.summary()"
      ]
    },
    {
      "cell_type": "code",
      "execution_count": 35,
      "metadata": {
        "colab": {
          "base_uri": "https://localhost:8080/"
        },
        "id": "FxGpHAoH3Z9o",
        "outputId": "40f7bb9c-9cb0-43b0-876b-0c16cc316c7d"
      },
      "outputs": [
        {
          "name": "stdout",
          "output_type": "stream",
          "text": [
            "1695/1695 [==============================] - 9s 4ms/step - loss: 1.5278e-04 - mean_absolute_error: 0.0077\n"
          ]
        },
        {
          "data": {
            "text/plain": [
              "<keras.callbacks.History at 0x7f75315a2710>"
            ]
          },
          "execution_count": 35,
          "metadata": {},
          "output_type": "execute_result"
        }
      ],
      "source": [
        "model.fit(x_train, y_train, batch_size=1, epochs=1)"
      ]
    },
    {
      "cell_type": "code",
      "execution_count": 27,
      "metadata": {
        "id": "gH7MsE233B9q"
      },
      "outputs": [],
      "source": [
        "test_data = scaled_data[training_data_len - 60:, :]\n",
        "x_test = []\n",
        "y_test = dataset[training_data_len :, :]"
      ]
    },
    {
      "cell_type": "code",
      "execution_count": 28,
      "metadata": {
        "id": "tbOyrHzf3GSs"
      },
      "outputs": [],
      "source": [
        "for i in range(60, len(test_data)):\n",
        "  x_test.append(test_data[i-60:i, 0])"
      ]
    },
    {
      "cell_type": "code",
      "execution_count": 29,
      "metadata": {
        "id": "owTUdMbq3H9G"
      },
      "outputs": [],
      "source": [
        "x_test = np.array(x_test)\n",
        "x_test = np.reshape(x_test, (x_test.shape[0], x_test.shape[1], 1))"
      ]
    },
    {
      "cell_type": "code",
      "execution_count": 36,
      "metadata": {
        "id": "h5FlQPyj3LCN"
      },
      "outputs": [],
      "source": [
        "pred = model.predict(x_test)\n",
        "pred = scaler.inverse_transform(pred)"
      ]
    },
    {
      "cell_type": "code",
      "execution_count": 37,
      "metadata": {
        "colab": {
          "base_uri": "https://localhost:8080/"
        },
        "id": "YQc81gzI3Mxg",
        "outputId": "ff43f31e-5185-443f-a6f6-aa21cc2114a8"
      },
      "outputs": [
        {
          "data": {
            "text/plain": [
              "7.471993986194351"
            ]
          },
          "execution_count": 37,
          "metadata": {},
          "output_type": "execute_result"
        }
      ],
      "source": [
        "rmse = np.sqrt(np.mean(pred-y_test)**2)\n",
        "rmse"
      ]
    },
    {
      "cell_type": "code",
      "execution_count": 38,
      "metadata": {
        "colab": {
          "base_uri": "https://localhost:8080/",
          "height": 601
        },
        "id": "U_GQcYmL3PM8",
        "outputId": "cdf35983-7530-4ca7-c49e-646ce260635b"
      },
      "outputs": [
        {
          "name": "stderr",
          "output_type": "stream",
          "text": [
            "/usr/local/lib/python3.7/dist-packages/ipykernel_launcher.py:3: SettingWithCopyWarning: \n",
            "A value is trying to be set on a copy of a slice from a DataFrame.\n",
            "Try using .loc[row_indexer,col_indexer] = value instead\n",
            "\n",
            "See the caveats in the documentation: https://pandas.pydata.org/pandas-docs/stable/user_guide/indexing.html#returning-a-view-versus-a-copy\n",
            "  This is separate from the ipykernel package so we can avoid doing imports until\n"
          ]
        },
        {
          "data": {
            "image/png": "[encoded data removed]",
            "text/plain": [
              "<Figure size 1152x576 with 1 Axes>"
            ]
          },
          "metadata": {
            "needs_background": "light"
          },
          "output_type": "display_data"
        }
      ],
      "source": [
        "train = df[:training_data_len]\n",
        "valid = df[training_data_len:]\n",
        "valid['Prediction'] = pred\n",
        "\n",
        "plt.figure(figsize=(16,8))\n",
        "plt.xlabel(\"Date\")\n",
        "plt.ylabel(\"Close price\")\n",
        "plt.plot(train['Close'])\n",
        "plt.plot(valid[['Close', 'Prediction']])\n",
        "plt.legend(['Train', 'Val', 'Pred'])\n",
        "plt.show()"
      ]
    },
    {
      "cell_type": "code",
      "execution_count": 39,
      "metadata": {
        "id": "MyhBFfc6-PJH"
      },
      "outputs": [],
      "source": [
        "period = 30\n",
        "new_data = scaled_data[len(df)-60:, :]\n",
        "new_df = []\n",
        "predictions = []"
      ]
    },
    {
      "cell_type": "code",
      "execution_count": 40,
      "metadata": {
        "id": "6wREcFZM_12Z"
      },
      "outputs": [],
      "source": [
        "for i in range(period):\n",
        "  instance = new_data[i:i+60, 0]\n",
        "  new_df.append(new_data[i:i+60, 0])\n",
        "  test = np.array([instance])\n",
        "  test = np.reshape(test, (test.shape[0], test.shape[1], 1))\n",
        "  prediction = model.predict(test)\n",
        "  new_data = np.append(new_data, prediction, axis=0)\n",
        "  prediction = scaler.inverse_transform(prediction)\n",
        "  predictions.append(prediction.tolist()[0][0])"
      ]
    },
    {
      "cell_type": "code",
      "execution_count": 41,
      "metadata": {
        "colab": {
          "base_uri": "https://localhost:8080/",
          "height": 206
        },
        "id": "4eT0eekDq5cQ",
        "outputId": "78eb1033-8acd-49f7-d9e5-8ea307224313"
      },
      "outputs": [
        {
          "data": {
            "text/html": [
              "\n",
              "  <div id=\"df-26916c77-0bf8-48c8-bb59-538bdb216d19\">\n",
              "    <div class=\"colab-df-container\">\n",
              "      <div>\n",
              "<style scoped>\n",
              "    .dataframe tbody tr th:only-of-type {\n",
              "        vertical-align: middle;\n",
              "    }\n",
              "\n",
              "    .dataframe tbody tr th {\n",
              "        vertical-align: top;\n",
              "    }\n",
              "\n",
              "    .dataframe thead th {\n",
              "        text-align: right;\n",
              "    }\n",
              "</style>\n",
              "<table border=\"1\" class=\"dataframe\">\n",
              "  <thead>\n",
              "    <tr style=\"text-align: right;\">\n",
              "      <th></th>\n",
              "      <th>Date</th>\n",
              "      <th>Forecast</th>\n",
              "    </tr>\n",
              "  </thead>\n",
              "  <tbody>\n",
              "    <tr>\n",
              "      <th>2021-09-14</th>\n",
              "      <td>2021-09-14</td>\n",
              "      <td>3275.935547</td>\n",
              "    </tr>\n",
              "    <tr>\n",
              "      <th>2021-09-15</th>\n",
              "      <td>2021-09-15</td>\n",
              "      <td>3248.888184</td>\n",
              "    </tr>\n",
              "    <tr>\n",
              "      <th>2021-09-16</th>\n",
              "      <td>2021-09-16</td>\n",
              "      <td>3223.788818</td>\n",
              "    </tr>\n",
              "    <tr>\n",
              "      <th>2021-09-17</th>\n",
              "      <td>2021-09-17</td>\n",
              "      <td>3201.123535</td>\n",
              "    </tr>\n",
              "    <tr>\n",
              "      <th>2021-09-18</th>\n",
              "      <td>2021-09-18</td>\n",
              "      <td>3180.703857</td>\n",
              "    </tr>\n",
              "  </tbody>\n",
              "</table>\n",
              "</div>\n",
              "      <button class=\"colab-df-convert\" onclick=\"convertToInteractive('df-26916c77-0bf8-48c8-bb59-538bdb216d19')\"\n",
              "              title=\"Convert this dataframe to an interactive table.\"\n",
              "              style=\"display:none;\">\n",
              "        \n",
              "  <svg xmlns=\"http://www.w3.org/2000/svg\" height=\"24px\"viewBox=\"0 0 24 24\"\n",
              "       width=\"24px\">\n",
              "    <path d=\"M0 0h24v24H0V0z\" fill=\"none\"/>\n",
              "    <path d=\"M18.56 5.44l.94 2.06.94-2.06 2.06-.94-2.06-.94-.94-2.06-.94 2.06-2.06.94zm-11 1L8.5 8.5l.94-2.06 2.06-.94-2.06-.94L8.5 2.5l-.94 2.06-2.06.94zm10 10l.94 2.06.94-2.06 2.06-.94-2.06-.94-.94-2.06-.94 2.06-2.06.94z\"/><path d=\"M17.41 7.96l-1.37-1.37c-.4-.4-.92-.59-1.43-.59-.52 0-1.04.2-1.43.59L10.3 9.45l-7.72 7.72c-.78.78-.78 2.05 0 2.83L4 21.41c.39.39.9.59 1.41.59.51 0 1.02-.2 1.41-.59l7.78-7.78 2.81-2.81c.8-.78.8-2.07 0-2.86zM5.41 20L4 18.59l7.72-7.72 1.47 1.35L5.41 20z\"/>\n",
              "  </svg>\n",
              "      </button>\n",
              "      \n",
              "  <style>\n",
              "    .colab-df-container {\n",
              "      display:flex;\n",
              "      flex-wrap:wrap;\n",
              "      gap: 12px;\n",
              "    }\n",
              "\n",
              "    .colab-df-convert {\n",
              "      background-color: #E8F0FE;\n",
              "      border: none;\n",
              "      border-radius: 50%;\n",
              "      cursor: pointer;\n",
              "      display: none;\n",
              "      fill: #1967D2;\n",
              "      height: 32px;\n",
              "      padding: 0 0 0 0;\n",
              "      width: 32px;\n",
              "    }\n",
              "\n",
              "    .colab-df-convert:hover {\n",
              "      background-color: #E2EBFA;\n",
              "      box-shadow: 0px 1px 2px rgba(60, 64, 67, 0.3), 0px 1px 3px 1px rgba(60, 64, 67, 0.15);\n",
              "      fill: #174EA6;\n",
              "    }\n",
              "\n",
              "    [theme=dark] .colab-df-convert {\n",
              "      background-color: #3B4455;\n",
              "      fill: #D2E3FC;\n",
              "    }\n",
              "\n",
              "    [theme=dark] .colab-df-convert:hover {\n",
              "      background-color: #434B5C;\n",
              "      box-shadow: 0px 1px 3px 1px rgba(0, 0, 0, 0.15);\n",
              "      filter: drop-shadow(0px 1px 2px rgba(0, 0, 0, 0.3));\n",
              "      fill: #FFFFFF;\n",
              "    }\n",
              "  </style>\n",
              "\n",
              "      <script>\n",
              "        const buttonEl =\n",
              "          document.querySelector('#df-26916c77-0bf8-48c8-bb59-538bdb216d19 button.colab-df-convert');\n",
              "        buttonEl.style.display =\n",
              "          google.colab.kernel.accessAllowed ? 'block' : 'none';\n",
              "\n",
              "        async function convertToInteractive(key) {\n",
              "          const element = document.querySelector('#df-26916c77-0bf8-48c8-bb59-538bdb216d19');\n",
              "          const dataTable =\n",
              "            await google.colab.kernel.invokeFunction('convertToInteractive',\n",
              "                                                     [key], {});\n",
              "          if (!dataTable) return;\n",
              "\n",
              "          const docLinkHtml = 'Like what you see? Visit the ' +\n",
              "            '<a target=\"_blank\" href=https://colab.research.google.com/notebooks/data_table.ipynb>data table notebook</a>'\n",
              "            + ' to learn more about interactive tables.';\n",
              "          element.innerHTML = '';\n",
              "          dataTable['output_type'] = 'display_data';\n",
              "          await google.colab.output.renderOutput(dataTable, element);\n",
              "          const docLink = document.createElement('div');\n",
              "          docLink.innerHTML = docLinkHtml;\n",
              "          element.appendChild(docLink);\n",
              "        }\n",
              "      </script>\n",
              "    </div>\n",
              "  </div>\n",
              "  "
            ],
            "text/plain": [
              "                 Date     Forecast\n",
              "2021-09-14 2021-09-14  3275.935547\n",
              "2021-09-15 2021-09-15  3248.888184\n",
              "2021-09-16 2021-09-16  3223.788818\n",
              "2021-09-17 2021-09-17  3201.123535\n",
              "2021-09-18 2021-09-18  3180.703857"
            ]
          },
          "execution_count": 41,
          "metadata": {},
          "output_type": "execute_result"
        }
      ],
      "source": [
        "rng = pd.date_range('2021-09-14', periods=period, freq='D')\n",
        "test_data = pd.DataFrame({'Date': rng, 'Forecast': predictions})\n",
        "test_data = test_data.set_index(pd.DatetimeIndex(test_data['Date'].values))\n",
        "test_data.head()"
      ]
    },
    {
      "cell_type": "code",
      "execution_count": 42,
      "metadata": {
        "colab": {
          "base_uri": "https://localhost:8080/"
        },
        "id": "wbmWuRDfu_LK",
        "outputId": "a03d3553-7a63-448a-9716-a7612c58dae2"
      },
      "outputs": [
        {
          "data": {
            "text/plain": [
              "[3275.935546875,\n",
              " 3248.88818359375,\n",
              " 3223.788818359375,\n",
              " 3201.12353515625,\n",
              " 3180.703857421875,\n",
              " 3162.300537109375,\n",
              " 3145.69580078125,\n",
              " 3130.686767578125,\n",
              " 3117.08837890625,\n",
              " 3104.7333984375,\n",
              " 3093.46923828125,\n",
              " 3083.16064453125,\n",
              " 3073.6875,\n",
              " 3064.94287109375,\n",
              " 3056.8330078125,\n",
              " 3049.274658203125,\n",
              " 3042.196044921875,\n",
              " 3035.53466796875,\n",
              " 3029.236572265625,\n",
              " 3023.2548828125,\n",
              " 3017.550537109375,\n",
              " 3012.08984375,\n",
              " 3006.84423828125,\n",
              " 3001.789794921875,\n",
              " 2996.906005859375,\n",
              " 2992.1767578125,\n",
              " 2987.58740234375,\n",
              " 2983.12646484375,\n",
              " 2978.7841796875,\n",
              " 2974.552978515625]"
            ]
          },
          "execution_count": 42,
          "metadata": {},
          "output_type": "execute_result"
        }
      ],
      "source": [
        "predictions"
      ]
    },
    {
      "cell_type": "code",
      "execution_count": 43,
      "metadata": {
        "colab": {
          "base_uri": "https://localhost:8080/",
          "height": 601
        },
        "id": "rpsupE5gs233",
        "outputId": "e7575fdd-d28f-4ed2-db51-5e8b3e194347"
      },
      "outputs": [
        {
          "name": "stderr",
          "output_type": "stream",
          "text": [
            "/usr/local/lib/python3.7/dist-packages/ipykernel_launcher.py:3: SettingWithCopyWarning: \n",
            "A value is trying to be set on a copy of a slice from a DataFrame.\n",
            "Try using .loc[row_indexer,col_indexer] = value instead\n",
            "\n",
            "See the caveats in the documentation: https://pandas.pydata.org/pandas-docs/stable/user_guide/indexing.html#returning-a-view-versus-a-copy\n",
            "  This is separate from the ipykernel package so we can avoid doing imports until\n"
          ]
        },
        {
          "data": {
            "image/png": "[encoded data removed]",
            "text/plain": [
              "<Figure size 1152x576 with 1 Axes>"
            ]
          },
          "metadata": {
            "needs_background": "light"
          },
          "output_type": "display_data"
        }
      ],
      "source": [
        "train = df[:training_data_len]\n",
        "valid = df[training_data_len:]\n",
        "valid['Prediction'] = pred\n",
        "\n",
        "plt.figure(figsize=(16,8))\n",
        "plt.xlabel(\"Date\")\n",
        "plt.ylabel(\"Close price\")\n",
        "plt.plot(train['Close'])\n",
        "plt.plot(valid[['Close', 'Prediction']])\n",
        "plt.plot(test_data['Forecast'])\n",
        "plt.legend(['Train', 'Val', 'Pred'])\n",
        "plt.show()"
      ]
    },
    {
      "cell_type": "code",
      "execution_count": null,
      "metadata": {
        "id": "Ylnj9LBXt0eL"
      },
      "outputs": [],
      "source": []
    }
  ],
  "metadata": {
    "accelerator": "GPU",
    "colab": {
      "name": "lstm.ipynb",
      "provenance": []
    },
    "gpuClass": "standard",
    "kernelspec": {
      "display_name": "Python 3.9.1 64-bit",
      "language": "python",
      "name": "python3"
    },
    "language_info": {
      "name": "python",
      "version": "3.9.1"
    },
    "vscode": {
      "interpreter": {
        "hash": "52634da84371cba311ea128a5ea7cdc41ff074b781779e754b270ff9f8153cee"
      }
    }
  },
  "nbformat": 4,
  "nbformat_minor": 0
}
